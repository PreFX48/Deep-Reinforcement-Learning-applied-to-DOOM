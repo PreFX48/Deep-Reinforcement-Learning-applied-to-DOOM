{
 "cells": [
  {
   "cell_type": "code",
   "execution_count": 1,
   "metadata": {},
   "outputs": [],
   "source": [
    "from models import *"
   ]
  },
  {
   "cell_type": "code",
   "execution_count": 3,
   "metadata": {},
   "outputs": [],
   "source": [
    "model = DDDQNetwork(init_zeros = 0, out = 3)"
   ]
  },
  {
   "cell_type": "code",
   "execution_count": 4,
   "metadata": {},
   "outputs": [
    {
     "data": {
      "text/plain": [
       "{'_backend': <torch.nn.backends.thnn.THNNFunctionBackend at 0x7f7e551254e0>,\n",
       " '_parameters': OrderedDict(),\n",
       " '_buffers': OrderedDict(),\n",
       " '_backward_hooks': OrderedDict(),\n",
       " '_forward_hooks': OrderedDict(),\n",
       " '_forward_pre_hooks': OrderedDict(),\n",
       " '_state_dict_hooks': OrderedDict(),\n",
       " '_load_state_dict_pre_hooks': OrderedDict(),\n",
       " '_modules': OrderedDict([('conv_1',\n",
       "               Conv2d(4, 16, kernel_size=(5, 5), stride=(2, 2))),\n",
       "              ('conv_2', Conv2d(16, 32, kernel_size=(5, 5), stride=(2, 2))),\n",
       "              ('conv_3', Conv2d(32, 32, kernel_size=(5, 5), stride=(2, 2))),\n",
       "              ('value_fc_1',\n",
       "               Linear(in_features=6528, out_features=1024, bias=True)),\n",
       "              ('value_fc_2',\n",
       "               Linear(in_features=1024, out_features=512, bias=True)),\n",
       "              ('value_output',\n",
       "               Linear(in_features=512, out_features=1, bias=True)),\n",
       "              ('advantage_fc_1',\n",
       "               Linear(in_features=6528, out_features=1024, bias=True)),\n",
       "              ('advantage_fc_2',\n",
       "               Linear(in_features=1024, out_features=512, bias=True)),\n",
       "              ('advantage_output',\n",
       "               Linear(in_features=512, out_features=3, bias=True))]),\n",
       " 'training': True}"
      ]
     },
     "execution_count": 4,
     "metadata": {},
     "output_type": "execute_result"
    }
   ],
   "source": [
    "        r += variables_cur['kills'] - variables_prev['kills']\n",
    "        if variables_cur['ammo'] < variables_prev['ammo']:\n",
    "            r -= 0.1\n",
    "\n",
    "        if variables_cur['health'] < variables_prev['health']:\n",
    "            r -= 0.1"
   ]
  },
  {
   "cell_type": "code",
   "execution_count": 2,
   "metadata": {},
   "outputs": [],
   "source": [
    "from vizdoom import *\n",
    "from utils import create_environment"
   ]
  },
  {
   "cell_type": "code",
   "execution_count": 3,
   "metadata": {},
   "outputs": [],
   "source": [
    "game, possible_actions = create_environment('defend_the_center', window = True)"
   ]
  },
  {
   "cell_type": "code",
   "execution_count": 8,
   "metadata": {},
   "outputs": [
    {
     "data": {
      "text/plain": [
       "0.0"
      ]
     },
     "execution_count": 8,
     "metadata": {},
     "output_type": "execute_result"
    }
   ],
   "source": [
    "game.get_game_variable(KILLCOUNT)"
   ]
  },
  {
   "cell_type": "code",
   "execution_count": 14,
   "metadata": {},
   "outputs": [],
   "source": [
    "a = {'a' : 1}\n",
    "b = {'a' : 1}"
   ]
  },
  {
   "cell_type": "code",
   "execution_count": 15,
   "metadata": {},
   "outputs": [],
   "source": [
    "b = a.copy()"
   ]
  },
  {
   "cell_type": "code",
   "execution_count": 16,
   "metadata": {},
   "outputs": [],
   "source": [
    "a['a'] = 2"
   ]
  },
  {
   "cell_type": "code",
   "execution_count": 17,
   "metadata": {},
   "outputs": [
    {
     "data": {
      "text/plain": [
       "{'a': 2}"
      ]
     },
     "execution_count": 17,
     "metadata": {},
     "output_type": "execute_result"
    }
   ],
   "source": [
    "a"
   ]
  },
  {
   "cell_type": "code",
   "execution_count": 18,
   "metadata": {},
   "outputs": [
    {
     "data": {
      "text/plain": [
       "{'a': 1}"
      ]
     },
     "execution_count": 18,
     "metadata": {},
     "output_type": "execute_result"
    }
   ],
   "source": []
  },
  {
   "cell_type": "code",
   "execution_count": null,
   "metadata": {},
   "outputs": [],
   "source": []
  }
 ],
 "metadata": {
  "kernelspec": {
   "display_name": "Python 3",
   "language": "python",
   "name": "python3"
  },
  "language_info": {
   "codemirror_mode": {
    "name": "ipython",
    "version": 3
   },
   "file_extension": ".py",
   "mimetype": "text/x-python",
   "name": "python",
   "nbconvert_exporter": "python",
   "pygments_lexer": "ipython3",
   "version": "3.7.1"
  }
 },
 "nbformat": 4,
 "nbformat_minor": 2
}
